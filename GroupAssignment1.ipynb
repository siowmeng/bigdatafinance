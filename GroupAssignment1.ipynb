{
 "cells": [
  {
   "cell_type": "markdown",
   "metadata": {},
   "source": [
    "## Big Data in Finance Assignment 1\n",
    "\n",
    "#### Akos Furton, Joaquin Coitino, Marnelia Scribante, Siow Meng Low"
   ]
  },
  {
   "cell_type": "code",
   "execution_count": 1,
   "metadata": {
    "collapsed": false
   },
   "outputs": [],
   "source": [
    "import pandas as pd\n",
    "import numpy as np\n",
    "from sklearn.model_selection import KFold\n",
    "from sklearn.linear_model import LogisticRegression, LogisticRegressionCV\n",
    "from sklearn.preprocessing import StandardScaler\n",
    "from sklearn.tree import DecisionTreeClassifier\n",
    "from sklearn.neighbors import KNeighborsClassifier\n",
    "from sklearn.model_selection import cross_val_score\n",
    "from sklearn.ensemble import RandomForestClassifier\n",
    "\n",
    "%matplotlib inline"
   ]
  },
  {
   "cell_type": "markdown",
   "metadata": {},
   "source": [
    "#### Read Data\n",
    "\n",
    "The below code read in the data and also scales the features before using 1-NN classifier."
   ]
  },
  {
   "cell_type": "code",
   "execution_count": 2,
   "metadata": {
    "collapsed": false
   },
   "outputs": [],
   "source": [
    "seedValue = 99\n",
    "\n",
    "loans = pd.read_excel('LCloanbook.xls', sheetname = 'Data')\n",
    "\n",
    "xDF = loans.iloc[ : , 1:]\n",
    "yDF = loans.iloc[ :, 0]\n",
    "\n",
    "x = xDF.as_matrix()\n",
    "y = yDF.as_matrix()\n",
    "\n",
    "# Standardise before using 1-NN\n",
    "xScaled = StandardScaler().fit_transform(x)\n"
   ]
  },
  {
   "cell_type": "markdown",
   "metadata": {},
   "source": [
    "#### Full Model\n",
    "\n",
    "The accuracies of the three techniques in full models (computed using 10-Fold Cross Validation) are:  "
   ]
  },
  {
   "cell_type": "code",
   "execution_count": 3,
   "metadata": {
    "collapsed": false
   },
   "outputs": [
    {
     "name": "stdout",
     "output_type": "stream",
     "text": [
      "Accuracy of Logistic Regression (computed using 10-Fold Cross Validation): 81.94 %\n",
      "Accuracy of Tree Classifer (computed using 10-Fold Cross Validation): 84.36 %\n",
      "Accuracy of 1-NN (computed using 10-Fold Cross Validation): 59.79 %\n"
     ]
    }
   ],
   "source": [
    "# Full Models\n",
    "loans_full_logistic = cross_val_score(LogisticRegression(), x, y, scoring = 'accuracy', \n",
    "                                      cv = KFold(10, shuffle = True, random_state = seedValue))\n",
    "loans_full_tree = cross_val_score(DecisionTreeClassifier(random_state = seedValue), x, y, scoring = 'accuracy', \n",
    "                                  cv = KFold(10, shuffle = True, random_state = seedValue))\n",
    "loans_full_knn = cross_val_score(KNeighborsClassifier(n_neighbors = 1), xScaled, y, scoring = 'accuracy', \n",
    "                                 cv = KFold(10, shuffle = True, random_state = seedValue))\n",
    "\n",
    "print(\"Accuracy of Logistic Regression (computed using 10-Fold Cross Validation): %.2f\" % (np.mean(loans_full_logistic) * 100), \\\n",
    "      \"%\")\n",
    "print(\"Accuracy of Tree Classifer (computed using 10-Fold Cross Validation): %.2f\" % (np.mean(loans_full_tree) * 100), \"%\")\n",
    "print(\"Accuracy of 1-NN (computed using 10-Fold Cross Validation): %.2f\" % (np.mean(loans_full_knn) * 100), \"%\")\n"
   ]
  },
  {
   "cell_type": "markdown",
   "metadata": {},
   "source": [
    "#### Reduced Model Attributes"
   ]
  },
  {
   "cell_type": "markdown",
   "metadata": {},
   "source": [
    "The loan attributes we believe are the most informative are:\n",
    "  \n",
    "1) acc_now_delinq - If a borrower currently has a non-zero number of delinquent accounts, we believe they would be much more likely to default an another loan.\n",
    "   \n",
    "2) delinq_2yrs - If a borrower has fallen over 30 days past due on a loan within the past two years, we believe they are liable to fall overdue again in future loans.\n",
    "   \n",
    "3) dti - We belive that the borrower's total debt to income would be critical in determining delinquency because small loans would be more easily repaid. If a borrower falls behind on a large loan, then they would have difficulty meeting interest payments.\n",
    "   \n",
    "4) home_ownership_MORTGAGE - We belive a borrower that currently has a mortgage would be more likely to default on a loan given that they have existing debt obligations.\n",
    "   \n",
    "5) home_ownership_OWN - A homeowner would be much less likely to default on a loan, considering they likely have no existing debt payments and much higher likelyhood of free cashflow.\n",
    "   \n",
    "6) home_ownership_RENT - A person who rents their home would be more likely to default on a loan considering that rent payments are often a person's largest monthly cash outflow. Therefore, since rent payments come first in a person's budget, they might not have enough money left for loan repayments.\n",
    "   \n",
    "7) int_rate - By using the prevailing public's judgement in setting an interest rate on a loan, we belive that higher rates would correspond with delinquencies. Loans that are assessed as more risky are given larger interest payments to compensate for the higher risk of default.\n",
    "   \n",
    "8) mths_since_last_delinq - We see the length of time since a borrower has been delinquent as a key predictor because a borrower who has recently defaulted is likely to default again. Conversely, a borrower who defaulted ages ago may have since improved his or her financial status.\n",
    "   \n",
    "9) open_acc_6m - The number of open credit lines in the last 6 months is an important attribute because people who lean on credit for their daily expenses are more likely to default. A person would only seek to open multiple lines of credit if they have exhausted their currently open lines.\n",
    "   \n",
    "10) pub_rec - We believe number of derogatory public records is critical because it reflects on the borrower's past history with credit. With prior bankrupcies or liens, the borrower has shown a history of non-repayment. Therefore, they would be much more likely to default on a new loan."
   ]
  },
  {
   "cell_type": "markdown",
   "metadata": {},
   "source": [
    "#### Reduced Model\n",
    "\n",
    "The accuracies of the three techniques in full models (computed using 10-Fold Cross Validation) are:  "
   ]
  },
  {
   "cell_type": "code",
   "execution_count": 4,
   "metadata": {
    "collapsed": false
   },
   "outputs": [
    {
     "name": "stdout",
     "output_type": "stream",
     "text": [
      "Accuracy of Logistic Regression (computed using 10-Fold Cross Validation): 64.14 %\n",
      "Accuracy of Tree Classifer (computed using 10-Fold Cross Validation): 63.14 %\n",
      "Accuracy of 1-NN (computed using 10-Fold Cross Validation): 56.97 %\n"
     ]
    }
   ],
   "source": [
    "# Reduced Models\n",
    "attrSlct = ['acc_now_delinq', 'delinq_2yrs', 'dti', 'home_ownership_MORTGAGE', 'home_ownership_OWN', \\\n",
    "            'home_ownership_RENT', 'int_rate', 'mths_since_last_delinq', 'open_acc_6m', 'pub_rec']\n",
    "\n",
    "x_Reduced = xDF.loc[ : , attrSlct].as_matrix()\n",
    "xScaled_Reduced = StandardScaler().fit_transform(x_Reduced)\n",
    "\n",
    "loans_reduced_logistic = cross_val_score(LogisticRegression(), x_Reduced, y, scoring = 'accuracy', \n",
    "                                         cv = KFold(10, shuffle = True, random_state = seedValue))\n",
    "loans_reduced_tree = cross_val_score(DecisionTreeClassifier(random_state = seedValue), x_Reduced, y, \n",
    "                                     scoring = 'accuracy', cv = KFold(10, shuffle = True, random_state = seedValue))\n",
    "loans_reduced_knn = cross_val_score(KNeighborsClassifier(n_neighbors = 1), xScaled_Reduced, y, \n",
    "                                    scoring = 'accuracy', cv = KFold(10, shuffle = True, random_state = seedValue))\n",
    "\n",
    "print(\"Accuracy of Logistic Regression (computed using 10-Fold Cross Validation): %.2f\" % (np.mean(loans_reduced_logistic) * 100), \\\n",
    "      \"%\")\n",
    "print(\"Accuracy of Tree Classifer (computed using 10-Fold Cross Validation): %.2f\" % (np.mean(loans_reduced_tree) * 100), \"%\")\n",
    "print(\"Accuracy of 1-NN (computed using 10-Fold Cross Validation): %.2f\" % (np.mean(loans_reduced_knn) * 100), \"%\")\n",
    "\n"
   ]
  },
  {
   "cell_type": "markdown",
   "metadata": {},
   "source": [
    "#### LASSO-MODEL (with 10-Fold Cross Validation)\n",
    "\n",
    "Below shows the accuracy of LASSO-MODEL computed using 10-Fold Cross Validation.  "
   ]
  },
  {
   "cell_type": "code",
   "execution_count": 5,
   "metadata": {
    "collapsed": false
   },
   "outputs": [
    {
     "name": "stdout",
     "output_type": "stream",
     "text": [
      "Number of Attributes after 10-fold cross-validation:  10\n",
      "Average accuracy over 10-fold cross-validation: 81.87 %\n"
     ]
    }
   ],
   "source": [
    "# Logit with 10-fold cross-validation\n",
    "LRCV_l1 = LogisticRegressionCV(Cs = [0.002], \n",
    "                               cv = KFold(10, shuffle = True, random_state = 99), \n",
    "                                         penalty='l1', solver = 'liblinear')\n",
    "\n",
    "LRCV_l1.fit(xScaled, y)\n",
    "\n",
    "print(\"Number of Attributes after 10-fold cross-validation: \", sum(LRCV_l1.coef_[0] != 0))\n",
    "print(\"Average accuracy over 10-fold cross-validation: %.2f\" % (np.mean(LRCV_l1.scores_[1]) * 100), \"%\")\n"
   ]
  },
  {
   "cell_type": "markdown",
   "metadata": {},
   "source": [
    "#### LASSO-MODEL (without 10-Fold Cross Validation)\n",
    "\n",
    "Below shows the accuracy of LASSO-MODEL without using 10-fold cross validation.  "
   ]
  },
  {
   "cell_type": "code",
   "execution_count": 6,
   "metadata": {
    "collapsed": false
   },
   "outputs": [
    {
     "name": "stdout",
     "output_type": "stream",
     "text": [
      "Number of Attributes: 10\n",
      "In-Sample Accuracy: 81.92 %\n",
      "The coefficient values of LASSO-MODEL are: \n",
      "                    Value\n",
      "Intercept        0.118545\n",
      "loan_amnt        1.140102\n",
      "int_rate         0.569961\n",
      "installment      0.093198\n",
      "annual_inc      -0.009127\n",
      "dti              0.032038\n",
      "inq_last_6mths   0.037829\n",
      "out_prncp       -1.464046\n",
      "total_rec_prncp -1.291023\n",
      "issue_year      -0.500639\n",
      "GRADE_A         -0.023369\n"
     ]
    }
   ],
   "source": [
    "# Logit using all data without cross-validation\n",
    "#for c in np.arange(0.0015, 0.0025, 0.0001):\n",
    "#    LR_l1 = LogisticRegression(C = c, penalty='l1')\n",
    "#    LR_l1.fit(xScaled, y)\n",
    "#    \n",
    "#    print(\"C=\", c)\n",
    "#    print(\"Number of Attributes=\", sum(LR_l1.coef_[0] != 0))\n",
    "#    print(\"In-Sample Accuracy=\", LR_l1.score(xScaled, y))\n",
    "    \n",
    "LR_l1 = LogisticRegression(C = 0.002, penalty='l1')\n",
    "LR_l1.fit(xScaled, y)\n",
    "\n",
    "interceptDF = pd.DataFrame(LR_l1.intercept_, index = ['Intercept'], columns = ['Value'])\n",
    "coefDF = pd.DataFrame(LR_l1.coef_[0][np.where(LR_l1.coef_[0] != 0)], \n",
    "                      index = xDF.columns[np.where(LR_l1.coef_[0] != 0)], \n",
    "                      columns = ['Value'])\n",
    "\n",
    "finalDF = pd.concat([interceptDF, coefDF])\n",
    "\n",
    "print(\"Number of Attributes:\", sum(LR_l1.coef_[0] != 0))\n",
    "print(\"In-Sample Accuracy: %.2f\" % (LR_l1.score(xScaled, y) * 100), \"%\")\n",
    "print(\"The coefficient values of LASSO-MODEL are: \")\n",
    "print(finalDF)\n",
    "    "
   ]
  },
  {
   "cell_type": "markdown",
   "metadata": {},
   "source": [
    "#### Revisit the Techniques with LASSO-selected attributes\n",
    "\n",
    "We retrain the three classifiers using the LASSO-selected attributes and the accuracies are as below:  "
   ]
  },
  {
   "cell_type": "code",
   "execution_count": 3,
   "metadata": {
    "collapsed": false
   },
   "outputs": [
    {
     "name": "stdout",
     "output_type": "stream",
     "text": [
      "Accuracy of Logistic Regression (computed using 10-Fold Cross Validation): 82.01 %\n",
      "Accuracy of Tree Classifer (computed using 10-Fold Cross Validation): 86.06 %\n",
      "Accuracy of 1-NN (computed using 10-Fold Cross Validation): 81.50 %\n"
     ]
    }
   ],
   "source": [
    "# LASSO Attributes\n",
    "attrLASSO = ['loan_amnt', 'int_rate', 'installment', 'annual_inc', 'dti', 'inq_last_6mths', \\\n",
    "             'out_prncp', 'total_rec_prncp', 'issue_year', 'GRADE_A']\n",
    "\n",
    "x_LASSO = xDF.loc[ : , attrLASSO].as_matrix()\n",
    "xScaled_LASSO = StandardScaler().fit_transform(x_LASSO)\n",
    "\n",
    "loans_LASSO_logistic = cross_val_score(LogisticRegression(), x_LASSO, y, scoring = 'accuracy', \n",
    "                                         cv = KFold(10, shuffle = True, random_state = seedValue))\n",
    "loans_LASSO_tree = cross_val_score(DecisionTreeClassifier(random_state = seedValue), x_LASSO, y, \n",
    "                                   scoring = 'accuracy', cv = KFold(10, shuffle = True, random_state = seedValue))\n",
    "loans_LASSO_knn = cross_val_score(KNeighborsClassifier(n_neighbors = 1), xScaled_LASSO, y, scoring = 'accuracy', \n",
    "                                    cv = KFold(10, shuffle = True, random_state = seedValue))\n",
    "\n",
    "print(\"Accuracy of Logistic Regression (computed using 10-Fold Cross Validation): %.2f\" % (np.mean(loans_LASSO_logistic) * 100), \\\n",
    "      \"%\")\n",
    "print(\"Accuracy of Tree Classifer (computed using 10-Fold Cross Validation): %.2f\" % (np.mean(loans_LASSO_tree) * 100), \"%\")\n",
    "print(\"Accuracy of 1-NN (computed using 10-Fold Cross Validation): %.2f\" % (np.mean(loans_LASSO_knn) * 100), \"%\")\n"
   ]
  },
  {
   "cell_type": "markdown",
   "metadata": {},
   "source": [
    "### Random Forest using LASSO-selected Attributes"
   ]
  },
  {
   "cell_type": "code",
   "execution_count": 6,
   "metadata": {
    "collapsed": false
   },
   "outputs": [
    {
     "name": "stdout",
     "output_type": "stream",
     "text": [
      "Accuracy of Random Forest (computed using 10-Fold Cross Validation): 88.92 %\n"
     ]
    }
   ],
   "source": [
    "loans_LASSO_RandomForest = cross_val_score(RandomForestClassifier(), x_LASSO, y, scoring = 'accuracy',\n",
    "               cv = KFold(10, shuffle = True, random_state = seedValue)).mean()\n",
    "print(\"Accuracy of Random Forest (computed using 10-Fold Cross Validation): %.2f\" % (loans_LASSO_RandomForest * 100), \\\n",
    "      \"%\")\n"
   ]
  },
  {
   "cell_type": "code",
   "execution_count": null,
   "metadata": {
    "collapsed": true
   },
   "outputs": [],
   "source": []
  }
 ],
 "metadata": {
  "anaconda-cloud": {},
  "kernelspec": {
   "display_name": "Python [default]",
   "language": "python",
   "name": "python3"
  },
  "language_info": {
   "codemirror_mode": {
    "name": "ipython",
    "version": 3
   },
   "file_extension": ".py",
   "mimetype": "text/x-python",
   "name": "python",
   "nbconvert_exporter": "python",
   "pygments_lexer": "ipython3",
   "version": "3.5.2"
  }
 },
 "nbformat": 4,
 "nbformat_minor": 0
}
